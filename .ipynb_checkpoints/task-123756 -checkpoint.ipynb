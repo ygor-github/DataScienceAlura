{
 "cells": [
  {
   "cell_type": "markdown",
   "id": "2244bb11-6691-4eff-b79a-b72877158ceb",
   "metadata": {},
   "source": [
    "Vamos praticar o uso de estruturas de repetição como o while e o for a partir de algumas atividades. Agora que estamos avançando nos conteúdos, podemos tornar os desafios mais interessantes. Para isso, vamos trabalhar com projetos de código!\n",
    "\n",
    "Primeiro, vamos solucionar alguns problemas para aquecer e nos prepararmos para os projetos.\n",
    "\n",
    "Aquecendo na programação\n",
    "1) Escreva um programa que peça dois números inteiros e imprima todos os números inteiros entre eles."
   ]
  },
  {
   "cell_type": "code",
   "execution_count": 26,
   "id": "04dd5e90-992c-43ac-a1b8-3bb13b24b0ba",
   "metadata": {},
   "outputs": [
    {
     "name": "stdin",
     "output_type": "stream",
     "text": [
      "Digite um número entero 10\n",
      "Digite otro número entero 1\n"
     ]
    },
    {
     "name": "stdout",
     "output_type": "stream",
     "text": [
      "2\n",
      "3\n",
      "4\n",
      "5\n",
      "6\n",
      "7\n",
      "8\n",
      "9\n"
     ]
    }
   ],
   "source": [
    "numero1 = int(input('Digite um número entero'))\n",
    "numero2 = int(input('Digite otro número entero'))\n",
    "a = 0\n",
    "b = 0\n",
    "\n",
    "if numero1 < numero2:\n",
    "    a = numero1+1\n",
    "    b = numero2\n",
    "else:\n",
    "    a = numero2+1\n",
    "    b = numero1\n",
    "\n",
    "for numero in range(a,b):\n",
    "    print(numero)"
   ]
  },
  {
   "cell_type": "code",
   "execution_count": null,
   "id": "75430d98-4755-44a0-af27-7d69fa1b5dbb",
   "metadata": {},
   "outputs": [],
   "source": []
  }
 ],
 "metadata": {
  "kernelspec": {
   "display_name": "Python 3 (ipykernel)",
   "language": "python",
   "name": "python3"
  },
  "language_info": {
   "codemirror_mode": {
    "name": "ipython",
    "version": 3
   },
   "file_extension": ".py",
   "mimetype": "text/x-python",
   "name": "python",
   "nbconvert_exporter": "python",
   "pygments_lexer": "ipython3",
   "version": "3.13.3"
  }
 },
 "nbformat": 4,
 "nbformat_minor": 5
}
