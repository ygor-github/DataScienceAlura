{
 "cells": [
  {
   "cell_type": "markdown",
   "id": "2244bb11-6691-4eff-b79a-b72877158ceb",
   "metadata": {},
   "source": [
    "Vamos praticar o uso de estruturas de repetição como o while e o for a partir de algumas atividades. Agora que estamos avançando nos conteúdos, podemos tornar os desafios mais interessantes. Para isso, vamos trabalhar com projetos de código!\n",
    "\n",
    "Primeiro, vamos solucionar alguns problemas para aquecer e nos prepararmos para os projetos.\n",
    "\n",
    "Aquecendo na programação\n",
    "1) Escreva um programa que peça dois números inteiros e imprima todos os números inteiros entre eles."
   ]
  },
  {
   "cell_type": "code",
   "execution_count": 32,
   "id": "04dd5e90-992c-43ac-a1b8-3bb13b24b0ba",
   "metadata": {},
   "outputs": [
    {
     "name": "stdin",
     "output_type": "stream",
     "text": [
      "Digite um número entero 1\n",
      "Digite otro número entero 10\n"
     ]
    },
    {
     "name": "stdout",
     "output_type": "stream",
     "text": [
      "2\n",
      "3\n",
      "4\n",
      "5\n",
      "6\n",
      "7\n",
      "8\n",
      "9\n"
     ]
    }
   ],
   "source": [
    "numero1 = int(input('Digite um número entero'))\n",
    "numero2 = int(input('Digite otro número entero'))\n",
    "\n",
    "if numero1 < numero2:\n",
    "    for i in range(numero1 + 1, numero2):\n",
    "        print(i)\n",
    "elif numero1>numero2:\n",
    "    for i in range(numero2 + 1,numero1):\n",
    "        print(i)\n",
    "else:\n",
    "    print('Os numeros son iguais.')"
   ]
  },
  {
   "cell_type": "markdown",
   "id": "8f3a5012-e6ca-4008-a1e3-f90537ed6e63",
   "metadata": {},
   "source": [
    "2) Escreva um programa para calcular quantos dias levará para a colônia de uma bactéria A ultrapassar ou igualar a colônia de uma bactéria B, com base nas taxas de crescimento de 3% e 1,5% respectivamente. Considere que a colônia A inicia com 4 elementos e a B com 10."
   ]
  },
  {
   "cell_type": "code",
   "execution_count": 43,
   "id": "a0b72eee-0e91-4110-969c-6c25c595ce72",
   "metadata": {},
   "outputs": [
    {
     "name": "stdout",
     "output_type": "stream",
     "text": [
      "En 63 días la colonia A a tendrá 25.75 y la colonia B tendrá 25.55 en número de bacterias\n"
     ]
    }
   ],
   "source": [
    "coloniaA = 4\n",
    "coloniaB = 10\n",
    "#tDcA Tasa de Crecimiento Colonia A\n",
    "tDcA = 3/100\n",
    "tDcB = 1.5/100\n",
    "dia = 0\n",
    "\n",
    "while coloniaA <= coloniaB:\n",
    "    coloniaA += coloniaA * tDcA\n",
    "    coloniaB += coloniaB * tDcB\n",
    "    dia += 1\n",
    "print(f'En {dia} días la colonia A a tendrá {coloniaA:.2f} y la colonia B tendrá {coloniaB:.2f} en número de bacterias')"
   ]
  },
  {
   "cell_type": "markdown",
   "id": "38625ecd-a144-40cf-b917-56100b3a6b00",
   "metadata": {},
   "source": [
    "3) Para tratar uma quantidade de 15 dados de avaliações de pessoas usuárias de um serviço da empresa, precisamos verificar se as notas são válidas. Então, escreva um programa que vai receber a nota de 0 a 5 de todos os dados e verificar se é um valor válido. Caso seja inserido uma nota acima de 5 ou abaixo de 0, repita até que a pessoa usuária insira um valor válido."
   ]
  },
  {
   "cell_type": "code",
   "execution_count": 48,
   "id": "6fc4e3c0-6f48-4df8-b159-1c5cfea9c58c",
   "metadata": {},
   "outputs": [
    {
     "name": "stdin",
     "output_type": "stream",
     "text": [
      "Digite um numero entre 0 y 5. Sendo 5 a melhor avaliacao 1\n"
     ]
    },
    {
     "name": "stdout",
     "output_type": "stream",
     "text": [
      "A 1° foi com nota de 1\n"
     ]
    },
    {
     "name": "stdin",
     "output_type": "stream",
     "text": [
      "Digite um numero entre 0 y 5. Sendo 5 a melhor avaliacao 2\n"
     ]
    },
    {
     "name": "stdout",
     "output_type": "stream",
     "text": [
      "A 2° foi com nota de 2\n"
     ]
    },
    {
     "name": "stdin",
     "output_type": "stream",
     "text": [
      "Digite um numero entre 0 y 5. Sendo 5 a melhor avaliacao 3\n"
     ]
    },
    {
     "name": "stdout",
     "output_type": "stream",
     "text": [
      "A 3° foi com nota de 3\n"
     ]
    },
    {
     "name": "stdin",
     "output_type": "stream",
     "text": [
      "Digite um numero entre 0 y 5. Sendo 5 a melhor avaliacao 4\n"
     ]
    },
    {
     "name": "stdout",
     "output_type": "stream",
     "text": [
      "A 4° foi com nota de 4\n"
     ]
    },
    {
     "name": "stdin",
     "output_type": "stream",
     "text": [
      "Digite um numero entre 0 y 5. Sendo 5 a melhor avaliacao 5\n"
     ]
    },
    {
     "name": "stdout",
     "output_type": "stream",
     "text": [
      "A 5° foi com nota de 5\n"
     ]
    },
    {
     "name": "stdin",
     "output_type": "stream",
     "text": [
      "Digite um numero entre 0 y 5. Sendo 5 a melhor avaliacao 1\n"
     ]
    },
    {
     "name": "stdout",
     "output_type": "stream",
     "text": [
      "A 6° foi com nota de 1\n"
     ]
    },
    {
     "name": "stdin",
     "output_type": "stream",
     "text": [
      "Digite um numero entre 0 y 5. Sendo 5 a melhor avaliacao 2\n"
     ]
    },
    {
     "name": "stdout",
     "output_type": "stream",
     "text": [
      "A 7° foi com nota de 2\n"
     ]
    },
    {
     "name": "stdin",
     "output_type": "stream",
     "text": [
      "Digite um numero entre 0 y 5. Sendo 5 a melhor avaliacao 3\n"
     ]
    },
    {
     "name": "stdout",
     "output_type": "stream",
     "text": [
      "A 8° foi com nota de 3\n"
     ]
    },
    {
     "name": "stdin",
     "output_type": "stream",
     "text": [
      "Digite um numero entre 0 y 5. Sendo 5 a melhor avaliacao 4\n"
     ]
    },
    {
     "name": "stdout",
     "output_type": "stream",
     "text": [
      "A 9° foi com nota de 4\n"
     ]
    },
    {
     "name": "stdin",
     "output_type": "stream",
     "text": [
      "Digite um numero entre 0 y 5. Sendo 5 a melhor avaliacao 5\n"
     ]
    },
    {
     "name": "stdout",
     "output_type": "stream",
     "text": [
      "A 10° foi com nota de 5\n"
     ]
    },
    {
     "name": "stdin",
     "output_type": "stream",
     "text": [
      "Digite um numero entre 0 y 5. Sendo 5 a melhor avaliacao 1\n"
     ]
    },
    {
     "name": "stdout",
     "output_type": "stream",
     "text": [
      "A 11° foi com nota de 1\n"
     ]
    },
    {
     "name": "stdin",
     "output_type": "stream",
     "text": [
      "Digite um numero entre 0 y 5. Sendo 5 a melhor avaliacao 2\n"
     ]
    },
    {
     "name": "stdout",
     "output_type": "stream",
     "text": [
      "A 12° foi com nota de 2\n"
     ]
    },
    {
     "name": "stdin",
     "output_type": "stream",
     "text": [
      "Digite um numero entre 0 y 5. Sendo 5 a melhor avaliacao 3\n"
     ]
    },
    {
     "name": "stdout",
     "output_type": "stream",
     "text": [
      "A 13° foi com nota de 3\n"
     ]
    },
    {
     "name": "stdin",
     "output_type": "stream",
     "text": [
      "Digite um numero entre 0 y 5. Sendo 5 a melhor avaliacao 1\n"
     ]
    },
    {
     "name": "stdout",
     "output_type": "stream",
     "text": [
      "A 14° foi com nota de 1\n"
     ]
    },
    {
     "name": "stdin",
     "output_type": "stream",
     "text": [
      "Digite um numero entre 0 y 5. Sendo 5 a melhor avaliacao 5\n"
     ]
    },
    {
     "name": "stdout",
     "output_type": "stream",
     "text": [
      "A 15° foi com nota de 5\n"
     ]
    }
   ],
   "source": [
    "numAvaliacao = 0\n",
    "\n",
    "while numAvaliacao <= 14:\n",
    "    avaliacao = int(input('Digite um numero entre 0 y 5. Sendo 5 a melhor avaliacao'))\n",
    "    if  0 <= avaliacao <= 5:\n",
    "        numAvaliacao += 1\n",
    "        print(f'A {numAvaliacao}° foi com nota de {avaliacao}')\n",
    "    else:\n",
    "        print('Vocé tem que digitar um valor entre 0 y 5 para avaliar')\n",
    "    "
   ]
  },
  {
   "cell_type": "code",
   "execution_count": null,
   "id": "a72e8ece-0233-466a-9370-a593ab95ad01",
   "metadata": {},
   "outputs": [],
   "source": []
  }
 ],
 "metadata": {
  "kernelspec": {
   "display_name": "Python 3 (ipykernel)",
   "language": "python",
   "name": "python3"
  },
  "language_info": {
   "codemirror_mode": {
    "name": "ipython",
    "version": 3
   },
   "file_extension": ".py",
   "mimetype": "text/x-python",
   "name": "python",
   "nbconvert_exporter": "python",
   "pygments_lexer": "ipython3",
   "version": "3.13.3"
  }
 },
 "nbformat": 4,
 "nbformat_minor": 5
}
