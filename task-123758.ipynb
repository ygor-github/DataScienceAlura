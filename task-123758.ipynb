{
 "cells": [
  {
   "cell_type": "markdown",
   "id": "4460d90d-42c6-427e-bd8a-a3f989a366d8",
   "metadata": {},
   "source": [
    "Vamos praticar o uso de estruturas condicionais como o if, else e elif a partir de algumas atividades. Agora que estamos avançando nos conteúdos, podemos tornar os desafios mais interessantes: vamos trabalhar com projetos de código! Solucione os problemas de aquecimento para se preparar para os projetos:\n",
    "\n",
    "Aquecendo na programação\n",
    "1) Escreva um programa que peça à pessoa usuária para fornecer dois números e exibir o número maior."
   ]
  },
  {
   "cell_type": "code",
   "execution_count": 4,
   "id": "4cf00e69-9a5f-4524-80e7-ec99fbf5a960",
   "metadata": {},
   "outputs": [
    {
     "name": "stdin",
     "output_type": "stream",
     "text": [
      "Digite um numero 9\n",
      "Digite otro numero diferente do primeiro 1\n"
     ]
    },
    {
     "name": "stdout",
     "output_type": "stream",
     "text": [
      "O primerio número que você digitou (9) e ó maior\n"
     ]
    }
   ],
   "source": [
    "n1 = int(input('Digite um numero'))\n",
    "n2 = int(input('Digite otro numero diferente do primeiro'))\n",
    "if n1 > n2:\n",
    "    print(f'O primeiro número que você digitou ({n1}) é o maior')\n",
    "else:\n",
    "    print(f'O segundo número que você digitou ({n2}) é o maior')\n",
    "               \n",
    "         "
   ]
  },
  {
   "cell_type": "markdown",
   "id": "908ca814-0541-4e07-9a2b-e38297729792",
   "metadata": {},
   "source": [
    "2) Escreva um programa que solicite o percentual de crescimento de produção de uma empresa e informe se houve um crescimento (porcentagem positiva) ou decrescimento (porcentagem negativa)."
   ]
  },
  {
   "cell_type": "code",
   "execution_count": 16,
   "id": "61aa279e-8b44-408a-8785-ed242000d65b",
   "metadata": {},
   "outputs": [
    {
     "name": "stdin",
     "output_type": "stream",
     "text": [
      "Digite o valor do percentual de crecimento -9.3\n"
     ]
    },
    {
     "name": "stdout",
     "output_type": "stream",
     "text": [
      "A empresa teve um decrescimento da producao de -9.30%\n"
     ]
    }
   ],
   "source": [
    "percentual_crecimento = float(input('Digite o valor do percentual de crecimento'))\n",
    "if percentual_crecimento > 0:\n",
    "    print(f'A empresa teve um crescimento da producao de {percentual_crecimento:.2f}%')\n",
    "elif percentual_crecimento == 0:\n",
    "    print(f'A empresa nao teve variacao na producao')\n",
    "else:\n",
    "    print(f'A empresa teve um decrescimento da producao de {percentual_crecimento:.2f}%')\n",
    "\n",
    "        \n",
    "                            "
   ]
  },
  {
   "cell_type": "markdown",
   "id": "868ef4a0-8181-4672-99e1-660c585d9b94",
   "metadata": {},
   "source": [
    "3) Escreva um programa que determine se uma letra fornecida pela pessoa usuária é uma vogal ou consoante."
   ]
  },
  {
   "cell_type": "code",
   "execution_count": 26,
   "id": "92640e4d-62af-4c79-b63a-11acbbd6af44",
   "metadata": {},
   "outputs": [
    {
     "name": "stdin",
     "output_type": "stream",
     "text": [
      "Ingrese uma letra c\n"
     ]
    },
    {
     "name": "stdout",
     "output_type": "stream",
     "text": [
      "A letra inserida \"C\" é uma consoante\n"
     ]
    }
   ],
   "source": [
    "letraInserida = input('Ingrese uma letra')\n",
    "letraInserida = letraInserida.upper()\n",
    "vogals = 'A,E,I,O,U'\n",
    "if letraInserida in vogals:\n",
    "    print(f'A letra inserida \"{letraInserida}\" é uma vogal')\n",
    "else:\n",
    "    print(f'A letra inserida \"{letraInserida}\" é uma consoante')"
   ]
  },
  {
   "cell_type": "markdown",
   "id": "ced0c93c-51f7-4df0-bd18-ed64e39f891e",
   "metadata": {},
   "source": [
    "4) Escreva um programa que leia valores médios de preços de um modelo de carro por 3 anos consecutivos e exiba o valor mais alto e mais baixo entre esses três anos."
   ]
  },
  {
   "cell_type": "code",
   "execution_count": 32,
   "id": "7282f649-0ded-4a22-8b7f-ad884b101202",
   "metadata": {},
   "outputs": [
    {
     "name": "stdin",
     "output_type": "stream",
     "text": [
      "Insira o preco medio ano 1 9\n",
      "Insira o preco medio ano 2 3\n",
      "Insira o preco medio ano 3 1\n"
     ]
    },
    {
     "name": "stdout",
     "output_type": "stream",
     "text": [
      "O precio do ano 1 foi o maior\n",
      "O precio do ano 3 foi o menor\n"
     ]
    }
   ],
   "source": [
    "preco_medio_ano1 = float(input('Insira o preco medio ano 1'))\n",
    "preco_medio_ano2 = float(input('Insira o preco medio ano 2'))\n",
    "preco_medio_ano3 = float(input('Insira o preco medio ano 3'))\n",
    "\n",
    "if preco_medio_ano2 < preco_medio_ano1 > preco_medio_ano3:\n",
    "    print(f'O precio do ano 1 foi o maior')\n",
    "elif preco_medio_ano1 < preco_medio_ano2 > preco_medio_ano3:\n",
    "    print(f'O precio do ano 2 foi o maior')\n",
    "else:\n",
    "    print(f'O precio do ano 3 foi o maior\\n2')\n",
    "\n",
    "\n",
    "if preco_medio_ano2 > preco_medio_ano1 < preco_medio_ano3:\n",
    "    print(f'O precio do ano 1 foi o menor')\n",
    "elif preco_medio_ano1 > preco_medio_ano2 < preco_medio_ano3:\n",
    "    print(f'O precio do ano 2 foi o menor')\n",
    "else:\n",
    "    print(f'O precio do ano 3 foi o menor')\n"
   ]
  },
  {
   "cell_type": "markdown",
   "id": "a036822f-e555-4ad9-9ded-a830519529d5",
   "metadata": {},
   "source": [
    "5) Escreva um programa que pergunte sobre o preço de três produtos e indique qual é o produto mais barato para comprar\n",
    "   "
   ]
  },
  {
   "cell_type": "code",
   "execution_count": null,
   "id": "b83e9bc7-128b-4930-9f1d-d707dc9f773f",
   "metadata": {},
   "outputs": [],
   "source": []
  }
 ],
 "metadata": {
  "kernelspec": {
   "display_name": "Python 3 (ipykernel)",
   "language": "python",
   "name": "python3"
  },
  "language_info": {
   "codemirror_mode": {
    "name": "ipython",
    "version": 3
   },
   "file_extension": ".py",
   "mimetype": "text/x-python",
   "name": "python",
   "nbconvert_exporter": "python",
   "pygments_lexer": "ipython3",
   "version": "3.13.3"
  }
 },
 "nbformat": 4,
 "nbformat_minor": 5
}
